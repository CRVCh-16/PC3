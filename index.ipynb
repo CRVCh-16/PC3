{
 "cells": [
  {
   "cell_type": "markdown",
   "metadata": {
    "id": "DSy1VWq9KYxa"
   },
   "source": [
    "# Práctica Calificada 3"
   ]
  },
  {
   "cell_type": "markdown",
   "metadata": {
    "id": "n5sHTTwCKfWX"
   },
   "source": [
    "## Lectura de datos"
   ]
  },
  {
   "cell_type": "markdown",
   "metadata": {
    "id": "tOFR2mpVkuqf"
   },
   "source": [
    "### Task 1"
   ]
  },
  {
   "cell_type": "code",
   "execution_count": 1,
   "metadata": {
    "id": "zU2hXAU-yRvt"
   },
   "outputs": [],
   "source": [
    "educationExpenditureLink=\"https://github.com/CRVCh-16/PC3/raw/refs/heads/main/Education%20expenditures.csv\"\n",
    "electricityLink=\"https://github.com/CRVCh-16/PC3/raw/refs/heads/main/Electricity%20-%20installed%20generating%20capacity.csv\"\n",
    "energyConsumptionLink=\"https://github.com/CRVCh-16/PC3/raw/refs/heads/main/Energy%20consumption%20per%20capita.csv\"\n",
    "reservesForeignExchangeLink=\"https://github.com/CRVCh-16/PC3/raw/refs/heads/main/Reserves%20of%20foreign%20exchange%20and%20gold.csv\"\n",
    "\n",
    "\n",
    "import pandas as pd\n",
    "\n",
    "education=pd.read_csv(educationExpenditureLink)\n",
    "electricity=pd.read_csv(electricityLink)\n",
    "energyConsumption=pd.read_csv(energyConsumptionLink)\n",
    "reservesForeignExchange=pd.read_csv(reservesForeignExchangeLink)"
   ]
  },
  {
   "cell_type": "markdown",
   "metadata": {
    "id": "O3NEmpnzKkBB"
   },
   "source": [
    "## Limpieza y formateo"
   ]
  },
  {
   "cell_type": "markdown",
   "metadata": {
    "id": "LAjjXb3GkscM"
   },
   "source": [
    "### Task 2"
   ]
  },
  {
   "cell_type": "code",
   "execution_count": 2,
   "metadata": {
    "id": "sv8AfkVO2ra8"
   },
   "outputs": [],
   "source": [
    "# se eliminan las columnas innecesarias:\n",
    "electricity=electricity.drop(columns=[\"slug\",\"ranking\"])\n",
    "education=education.drop(columns=[\"slug\",\"ranking\"])\n",
    "energyConsumption=energyConsumption.drop(columns=[\"slug\",\"ranking\"])\n",
    "reservesForeignExchange=reservesForeignExchange.drop(columns=[\"slug\",\"ranking\"])"
   ]
  },
  {
   "cell_type": "code",
   "execution_count": 3,
   "metadata": {
    "id": "CXWdFshO4_cz"
   },
   "outputs": [],
   "source": [
    "# se cambian los nombres de las columnas\n",
    "newNamesElectricity=[\"Country\",\"Electricity_generated_kW\",\"Year_electricity\",\"Region\"]\n",
    "newNamesEducation=[\"Country\",\"Education_expenditure_percent_GDP\",\"Year_education\",\"Region\"]\n",
    "newNamesEnergyConsumption=[\"Country\",\"Energy_consumption_per_capita_BtuPerPerson\",\"Year_energy\",\"Region\"]\n",
    "newNamesReservesForeignExchange=[\"Country\",\"Reserves_of_foreign_exchange_dollars\",\"Year_reserves\",\"Region\"]\n",
    "\n",
    "electricity.columns=newNamesElectricity\n",
    "education.columns=newNamesEducation\n",
    "energyConsumption.columns=newNamesEnergyConsumption\n",
    "reservesForeignExchange.columns=newNamesReservesForeignExchange"
   ]
  },
  {
   "cell_type": "code",
   "execution_count": 4,
   "metadata": {
    "id": "TiO__FUs55KK"
   },
   "outputs": [],
   "source": [
    "# se elimina cualquier leading o trailing space si lo hay en los nombres de los paises\n",
    "electricity.iloc[:,0]=electricity[\"Country\"].str.strip().to_list()\n",
    "education.iloc[:,0]=education[\"Country\"].str.strip().to_list()\n",
    "energyConsumption.iloc[:,0]=energyConsumption[\"Country\"].str.strip().to_list()\n",
    "reservesForeignExchange.iloc[:,0]=reservesForeignExchange[\"Country\"].str.strip().to_list()"
   ]
  },
  {
   "cell_type": "code",
   "execution_count": 5,
   "metadata": {
    "colab": {
     "base_uri": "https://localhost:8080/",
     "height": 425
    },
    "id": "Yuqc4qpY6_PK",
    "outputId": "11968b03-f9d2-4dbe-9fdb-9af16f532301"
   },
   "outputs": [
    {
     "data": {
      "text/html": [
       "<div>\n",
       "<style scoped>\n",
       "    .dataframe tbody tr th:only-of-type {\n",
       "        vertical-align: middle;\n",
       "    }\n",
       "\n",
       "    .dataframe tbody tr th {\n",
       "        vertical-align: top;\n",
       "    }\n",
       "\n",
       "    .dataframe thead th {\n",
       "        text-align: right;\n",
       "    }\n",
       "</style>\n",
       "<table border=\"1\" class=\"dataframe\">\n",
       "  <thead>\n",
       "    <tr style=\"text-align: right;\">\n",
       "      <th></th>\n",
       "      <th>Country</th>\n",
       "      <th>Electricity_generated_kW</th>\n",
       "      <th>Year_electricity</th>\n",
       "      <th>Region</th>\n",
       "    </tr>\n",
       "  </thead>\n",
       "  <tbody>\n",
       "    <tr>\n",
       "      <th>9</th>\n",
       "      <td>Korea, South</td>\n",
       "      <td>151,139,000</td>\n",
       "      <td>2023</td>\n",
       "      <td>East and Southeast Asia</td>\n",
       "    </tr>\n",
       "    <tr>\n",
       "      <th>15</th>\n",
       "      <td>Turkey (Turkiye)</td>\n",
       "      <td>106,281,000</td>\n",
       "      <td>2023</td>\n",
       "      <td>Middle East</td>\n",
       "    </tr>\n",
       "    <tr>\n",
       "      <th>70</th>\n",
       "      <td>Korea, North</td>\n",
       "      <td>8,357,000</td>\n",
       "      <td>2023</td>\n",
       "      <td>East and Southeast Asia</td>\n",
       "    </tr>\n",
       "    <tr>\n",
       "      <th>106</th>\n",
       "      <td>Congo, Democratic Republic of the</td>\n",
       "      <td>3,229,000</td>\n",
       "      <td>2023</td>\n",
       "      <td>Africa</td>\n",
       "    </tr>\n",
       "    <tr>\n",
       "      <th>116</th>\n",
       "      <td>Cote d'Ivoire</td>\n",
       "      <td>2,315,000</td>\n",
       "      <td>2023</td>\n",
       "      <td>Africa</td>\n",
       "    </tr>\n",
       "    <tr>\n",
       "      <th>136</th>\n",
       "      <td>Congo, Republic of the</td>\n",
       "      <td>842,000</td>\n",
       "      <td>2023</td>\n",
       "      <td>Africa</td>\n",
       "    </tr>\n",
       "    <tr>\n",
       "      <th>147</th>\n",
       "      <td>Bahamas, The</td>\n",
       "      <td>608,000</td>\n",
       "      <td>2023</td>\n",
       "      <td>Central America and the Caribbean</td>\n",
       "    </tr>\n",
       "    <tr>\n",
       "      <th>166</th>\n",
       "      <td>Timor-Leste</td>\n",
       "      <td>277,000</td>\n",
       "      <td>2023</td>\n",
       "      <td>East and Southeast Asia</td>\n",
       "    </tr>\n",
       "    <tr>\n",
       "      <th>178</th>\n",
       "      <td>Gambia, The</td>\n",
       "      <td>162,000</td>\n",
       "      <td>2023</td>\n",
       "      <td>Africa</td>\n",
       "    </tr>\n",
       "    <tr>\n",
       "      <th>202</th>\n",
       "      <td>Guinea-Bissau</td>\n",
       "      <td>29,000</td>\n",
       "      <td>2023</td>\n",
       "      <td>Africa</td>\n",
       "    </tr>\n",
       "    <tr>\n",
       "      <th>207</th>\n",
       "      <td>Falkland Islands (Islas Malvinas)</td>\n",
       "      <td>10,000</td>\n",
       "      <td>2023</td>\n",
       "      <td>South America</td>\n",
       "    </tr>\n",
       "    <tr>\n",
       "      <th>209</th>\n",
       "      <td>Saint Helena, Ascension, and Tristan da Cunha</td>\n",
       "      <td>5,000</td>\n",
       "      <td>2023</td>\n",
       "      <td>Africa</td>\n",
       "    </tr>\n",
       "  </tbody>\n",
       "</table>\n",
       "</div>"
      ],
      "text/plain": [
       "                                           Country Electricity_generated_kW  \\\n",
       "9                                     Korea, South              151,139,000   \n",
       "15                                Turkey (Turkiye)              106,281,000   \n",
       "70                                    Korea, North                8,357,000   \n",
       "106              Congo, Democratic Republic of the                3,229,000   \n",
       "116                                  Cote d'Ivoire                2,315,000   \n",
       "136                         Congo, Republic of the                  842,000   \n",
       "147                                   Bahamas, The                  608,000   \n",
       "166                                    Timor-Leste                  277,000   \n",
       "178                                    Gambia, The                  162,000   \n",
       "202                                  Guinea-Bissau                   29,000   \n",
       "207              Falkland Islands (Islas Malvinas)                   10,000   \n",
       "209  Saint Helena, Ascension, and Tristan da Cunha                    5,000   \n",
       "\n",
       "     Year_electricity                             Region  \n",
       "9                2023            East and Southeast Asia  \n",
       "15               2023                        Middle East  \n",
       "70               2023            East and Southeast Asia  \n",
       "106              2023                             Africa  \n",
       "116              2023                             Africa  \n",
       "136              2023                             Africa  \n",
       "147              2023  Central America and the Caribbean  \n",
       "166              2023            East and Southeast Asia  \n",
       "178              2023                             Africa  \n",
       "202              2023                             Africa  \n",
       "207              2023                      South America  \n",
       "209              2023                             Africa  "
      ]
     },
     "execution_count": 5,
     "metadata": {},
     "output_type": "execute_result"
    }
   ],
   "source": [
    "# hay simbolos raros?\n",
    "electricity[electricity.Country.str.contains(r'[^\\w\\s]')]\n",
    "#No son simbolos raros, por lo que se puede dejar como tal"
   ]
  },
  {
   "cell_type": "code",
   "execution_count": 6,
   "metadata": {
    "colab": {
     "base_uri": "https://localhost:8080/"
    },
    "id": "XH2y8mI_8bZg",
    "outputId": "d8829df7-ad50-4727-cc81-75ec7dca3519"
   },
   "outputs": [
    {
     "name": "stdout",
     "output_type": "stream",
     "text": [
      "Collecting unidecode\n",
      "  Downloading Unidecode-1.4.0-py3-none-any.whl.metadata (13 kB)\n",
      "Downloading Unidecode-1.4.0-py3-none-any.whl (235 kB)\n",
      "Installing collected packages: unidecode\n",
      "Successfully installed unidecode-1.4.0\n"
     ]
    }
   ],
   "source": [
    "#guardaremos solo los simbolos ASCII\n",
    "!pip install unidecode"
   ]
  },
  {
   "cell_type": "code",
   "execution_count": 7,
   "metadata": {
    "id": "3nea9Zs782S_"
   },
   "outputs": [],
   "source": [
    "from unidecode import unidecode\n",
    "electricity['Country']=electricity.Country.apply(unidecode)\n",
    "education['Country']=education.Country.apply(unidecode)\n",
    "energyConsumption['Country']=energyConsumption.Country.apply(unidecode)\n",
    "reservesForeignExchange['Country']=reservesForeignExchange.Country.apply(unidecode)"
   ]
  },
  {
   "cell_type": "code",
   "execution_count": 8,
   "metadata": {
    "id": "X3ch7MPn9E7f"
   },
   "outputs": [],
   "source": [
    "# convertiremos los nombres de paises en mayusculas para mejor entendimiento\n",
    "electricity['Country']=electricity.Country.str.upper()\n",
    "education['Country']=education.Country.str.upper()\n",
    "energyConsumption['Country']=energyConsumption.Country.str.upper()\n",
    "reservesForeignExchange['Country']=reservesForeignExchange.Country.str.upper()\n",
    "\n",
    "#Con esto, ya se tiene limpieado y formateado los nombres de los países"
   ]
  },
  {
   "cell_type": "code",
   "execution_count": 9,
   "metadata": {
    "id": "FU3lY7NoDRCy"
   },
   "outputs": [],
   "source": [
    "# se crea funcion para eliminar cualquier valor diferente a numero o un punto en un string\n",
    "import re\n",
    "charToNum=lambda xString:re.sub(\"[^0-9.]\",\"\",xString)"
   ]
  },
  {
   "cell_type": "code",
   "execution_count": 10,
   "metadata": {
    "id": "vfq3ZaAMBUN0"
   },
   "outputs": [],
   "source": [
    "# se procede con la limpieza y formateo de los valores numéricos\n",
    "#para electricity\n",
    "electricity.iloc[:,1]=electricity.iloc[:,1].map(charToNum)\n",
    "electricity['Electricity_generated_kW']=pd.to_numeric(electricity.Electricity_generated_kW)"
   ]
  },
  {
   "cell_type": "code",
   "execution_count": 11,
   "metadata": {
    "colab": {
     "base_uri": "https://localhost:8080/"
    },
    "id": "EGgL1b9lIOfe",
    "outputId": "d578b0ee-44ac-43e6-cab6-9cd5b86d6e8d"
   },
   "outputs": [
    {
     "name": "stdout",
     "output_type": "stream",
     "text": [
      "<class 'pandas.core.frame.DataFrame'>\n",
      "RangeIndex: 211 entries, 0 to 210\n",
      "Data columns (total 4 columns):\n",
      " #   Column                    Non-Null Count  Dtype \n",
      "---  ------                    --------------  ----- \n",
      " 0   Country                   211 non-null    object\n",
      " 1   Electricity_generated_kW  211 non-null    int64 \n",
      " 2   Year_electricity          211 non-null    int64 \n",
      " 3   Region                    211 non-null    object\n",
      "dtypes: int64(2), object(2)\n",
      "memory usage: 6.7+ KB\n"
     ]
    }
   ],
   "source": [
    "electricity.info()      # todo bien para electricity"
   ]
  },
  {
   "cell_type": "code",
   "execution_count": 12,
   "metadata": {
    "colab": {
     "base_uri": "https://localhost:8080/"
    },
    "id": "DziwvAeEIUhd",
    "outputId": "22cca45e-121b-400b-cf76-5cf74afaf6a3"
   },
   "outputs": [
    {
     "name": "stdout",
     "output_type": "stream",
     "text": [
      "<class 'pandas.core.frame.DataFrame'>\n",
      "RangeIndex: 197 entries, 0 to 196\n",
      "Data columns (total 4 columns):\n",
      " #   Column                             Non-Null Count  Dtype  \n",
      "---  ------                             --------------  -----  \n",
      " 0   Country                            197 non-null    object \n",
      " 1   Education_expenditure_percent_GDP  197 non-null    float64\n",
      " 2   Year_education                     197 non-null    int64  \n",
      " 3   Region                             197 non-null    object \n",
      "dtypes: float64(1), int64(1), object(2)\n",
      "memory usage: 6.3+ KB\n"
     ]
    }
   ],
   "source": [
    "education.info()            # todo bien para education"
   ]
  },
  {
   "cell_type": "code",
   "execution_count": 13,
   "metadata": {
    "id": "aHGnlcp2IJw-"
   },
   "outputs": [],
   "source": [
    "#para energyConsumption\n",
    "energyConsumption.iloc[:,1]=energyConsumption.iloc[:,1].map(charToNum)\n",
    "energyConsumption['Energy_consumption_per_capita_BtuPerPerson']=pd.to_numeric(energyConsumption.Energy_consumption_per_capita_BtuPerPerson)"
   ]
  },
  {
   "cell_type": "code",
   "execution_count": 14,
   "metadata": {
    "colab": {
     "base_uri": "https://localhost:8080/"
    },
    "id": "15a4TNApIk3V",
    "outputId": "a84ec80d-3282-4143-96e4-42e2e3dd75cc"
   },
   "outputs": [
    {
     "name": "stdout",
     "output_type": "stream",
     "text": [
      "<class 'pandas.core.frame.DataFrame'>\n",
      "RangeIndex: 195 entries, 0 to 194\n",
      "Data columns (total 4 columns):\n",
      " #   Column                                      Non-Null Count  Dtype \n",
      "---  ------                                      --------------  ----- \n",
      " 0   Country                                     195 non-null    object\n",
      " 1   Energy_consumption_per_capita_BtuPerPerson  195 non-null    int64 \n",
      " 2   Year_energy                                 195 non-null    int64 \n",
      " 3   Region                                      195 non-null    object\n",
      "dtypes: int64(2), object(2)\n",
      "memory usage: 6.2+ KB\n"
     ]
    }
   ],
   "source": [
    "energyConsumption.info()              # todo bien para energy consumption"
   ]
  },
  {
   "cell_type": "code",
   "execution_count": 15,
   "metadata": {
    "id": "Hbji9_vdJHdm"
   },
   "outputs": [],
   "source": [
    "#para reservesForeignExchange\n",
    "reservesForeignExchange.iloc[:,1]=reservesForeignExchange.iloc[:,1].map(charToNum)\n",
    "reservesForeignExchange['Reserves_of_foreign_exchange_dollars']=pd.to_numeric(reservesForeignExchange.Reserves_of_foreign_exchange_dollars)"
   ]
  },
  {
   "cell_type": "code",
   "execution_count": 16,
   "metadata": {
    "colab": {
     "base_uri": "https://localhost:8080/"
    },
    "id": "OuAKm481J6fE",
    "outputId": "448771dc-5611-4312-b807-14bbef2b6be8"
   },
   "outputs": [
    {
     "name": "stdout",
     "output_type": "stream",
     "text": [
      "<class 'pandas.core.frame.DataFrame'>\n",
      "RangeIndex: 195 entries, 0 to 194\n",
      "Data columns (total 4 columns):\n",
      " #   Column                                Non-Null Count  Dtype \n",
      "---  ------                                --------------  ----- \n",
      " 0   Country                               195 non-null    object\n",
      " 1   Reserves_of_foreign_exchange_dollars  195 non-null    int64 \n",
      " 2   Year_reserves                         195 non-null    int64 \n",
      " 3   Region                                195 non-null    object\n",
      "dtypes: int64(2), object(2)\n",
      "memory usage: 6.2+ KB\n"
     ]
    }
   ],
   "source": [
    "reservesForeignExchange.info()        # todo bien para reservesForeignExchange"
   ]
  },
  {
   "cell_type": "code",
   "execution_count": 17,
   "metadata": {
    "id": "J_aTHeipPqvp"
   },
   "outputs": [],
   "source": [
    "# Finalmente, se debe convertir la columna Region en categorical\n",
    "electricity['Region'] = pd.Categorical(electricity.Region, ordered=False, categories=['East and Southeast Asia', 'North America', 'South Asia',\n",
    "                                                                                      'Central Asia', 'Europe', 'South America', 'Middle East',\n",
    "                                                                                      'Australia and Oceania', 'Africa','Central America and the Caribbean'])\n",
    "education['Region'] = pd.Categorical(education.Region, ordered=False, categories=['East and Southeast Asia', 'North America', 'South Asia',\n",
    "                                                                                      'Central Asia', 'Europe', 'South America', 'Middle East',\n",
    "                                                                                      'Australia and Oceania', 'Africa','Central America and the Caribbean'])\n",
    "energyConsumption['Region'] = pd.Categorical(energyConsumption.Region, ordered=False, categories=['East and Southeast Asia', 'North America', 'South Asia',\n",
    "                                                                                      'Central Asia', 'Europe', 'South America', 'Middle East',\n",
    "                                                                                      'Australia and Oceania', 'Africa','Central America and the Caribbean'])\n",
    "reservesForeignExchange['Region'] = pd.Categorical(reservesForeignExchange.Region, ordered=False, categories=['East and Southeast Asia', 'North America', 'South Asia',\n",
    "                                                                                      'Central Asia', 'Europe', 'South America', 'Middle East',\n",
    "                                                                                      'Australia and Oceania', 'Africa','Central America and the Caribbean'])"
   ]
  },
  {
   "cell_type": "code",
   "execution_count": 18,
   "metadata": {
    "colab": {
     "base_uri": "https://localhost:8080/"
    },
    "id": "7H1k2KwAQ6OC",
    "outputId": "cffc1c35-d5ce-4a6a-87d2-ea32627ae090"
   },
   "outputs": [
    {
     "name": "stdout",
     "output_type": "stream",
     "text": [
      "<class 'pandas.core.frame.DataFrame'>\n",
      "RangeIndex: 211 entries, 0 to 210\n",
      "Data columns (total 4 columns):\n",
      " #   Column                    Non-Null Count  Dtype   \n",
      "---  ------                    --------------  -----   \n",
      " 0   Country                   211 non-null    object  \n",
      " 1   Electricity_generated_kW  211 non-null    int64   \n",
      " 2   Year_electricity          211 non-null    int64   \n",
      " 3   Region                    211 non-null    category\n",
      "dtypes: category(1), int64(2), object(1)\n",
      "memory usage: 5.7+ KB\n"
     ]
    }
   ],
   "source": [
    "#Se verifica el cambio en un DF\n",
    "electricity.info()        #todo correcto"
   ]
  },
  {
   "cell_type": "markdown",
   "metadata": {
    "id": "c7hpbHT1K5Dw"
   },
   "source": [
    "## Integración: concatenar y merge"
   ]
  },
  {
   "cell_type": "markdown",
   "metadata": {
    "id": "ft4Z58ZOLbsW"
   },
   "source": [
    "Combine those dataframes into one. Decision: what to do to keep as many cases as possible."
   ]
  },
  {
   "cell_type": "markdown",
   "metadata": {
    "id": "Q8nw5xedkki3"
   },
   "source": [
    "### Task 3"
   ]
  },
  {
   "cell_type": "code",
   "execution_count": 19,
   "metadata": {
    "id": "wVttVM7-ruZN"
   },
   "outputs": [],
   "source": [
    "# se indexan las columnas que serán comunes para el nuevo dataframe concatenado.\n",
    "electricityMerge=electricity.set_index([\"Country\",\"Region\"])\n",
    "educationMerge=education.set_index([\"Country\",\"Region\"])\n",
    "energyMerge=energyConsumption.set_index([\"Country\",\"Region\"])\n",
    "reservesMerge=reservesForeignExchange.set_index([\"Country\",\"Region\"])"
   ]
  },
  {
   "cell_type": "code",
   "execution_count": 20,
   "metadata": {
    "colab": {
     "base_uri": "https://localhost:8080/",
     "height": 455
    },
    "id": "5bcg9a_QTmB8",
    "outputId": "8890bbda-b83a-450d-edff-19aaf9eefb61"
   },
   "outputs": [
    {
     "data": {
      "text/html": [
       "<div>\n",
       "<style scoped>\n",
       "    .dataframe tbody tr th:only-of-type {\n",
       "        vertical-align: middle;\n",
       "    }\n",
       "\n",
       "    .dataframe tbody tr th {\n",
       "        vertical-align: top;\n",
       "    }\n",
       "\n",
       "    .dataframe thead th {\n",
       "        text-align: right;\n",
       "    }\n",
       "</style>\n",
       "<table border=\"1\" class=\"dataframe\">\n",
       "  <thead>\n",
       "    <tr style=\"text-align: right;\">\n",
       "      <th></th>\n",
       "      <th></th>\n",
       "      <th>Electricity_generated_kW</th>\n",
       "      <th>Year_electricity</th>\n",
       "    </tr>\n",
       "    <tr>\n",
       "      <th>Country</th>\n",
       "      <th>Region</th>\n",
       "      <th></th>\n",
       "      <th></th>\n",
       "    </tr>\n",
       "  </thead>\n",
       "  <tbody>\n",
       "    <tr>\n",
       "      <th>CHINA</th>\n",
       "      <th>East and Southeast Asia</th>\n",
       "      <td>2949000000</td>\n",
       "      <td>2023</td>\n",
       "    </tr>\n",
       "    <tr>\n",
       "      <th>UNITED STATES</th>\n",
       "      <th>North America</th>\n",
       "      <td>1235000000</td>\n",
       "      <td>2023</td>\n",
       "    </tr>\n",
       "    <tr>\n",
       "      <th>INDIA</th>\n",
       "      <th>South Asia</th>\n",
       "      <td>499136000</td>\n",
       "      <td>2023</td>\n",
       "    </tr>\n",
       "    <tr>\n",
       "      <th>JAPAN</th>\n",
       "      <th>East and Southeast Asia</th>\n",
       "      <td>361617000</td>\n",
       "      <td>2023</td>\n",
       "    </tr>\n",
       "    <tr>\n",
       "      <th>RUSSIA</th>\n",
       "      <th>Central Asia</th>\n",
       "      <td>301926000</td>\n",
       "      <td>2023</td>\n",
       "    </tr>\n",
       "    <tr>\n",
       "      <th>...</th>\n",
       "      <th>...</th>\n",
       "      <td>...</td>\n",
       "      <td>...</td>\n",
       "    </tr>\n",
       "    <tr>\n",
       "      <th>KIRIBATI</th>\n",
       "      <th>Australia and Oceania</th>\n",
       "      <td>12000</td>\n",
       "      <td>2023</td>\n",
       "    </tr>\n",
       "    <tr>\n",
       "      <th>FALKLAND ISLANDS (ISLAS MALVINAS)</th>\n",
       "      <th>South America</th>\n",
       "      <td>10000</td>\n",
       "      <td>2023</td>\n",
       "    </tr>\n",
       "    <tr>\n",
       "      <th>MONTSERRAT</th>\n",
       "      <th>Central America and the Caribbean</th>\n",
       "      <td>6000</td>\n",
       "      <td>2023</td>\n",
       "    </tr>\n",
       "    <tr>\n",
       "      <th>SAINT HELENA, ASCENSION, AND TRISTAN DA CUNHA</th>\n",
       "      <th>Africa</th>\n",
       "      <td>5000</td>\n",
       "      <td>2023</td>\n",
       "    </tr>\n",
       "    <tr>\n",
       "      <th>NIUE</th>\n",
       "      <th>Australia and Oceania</th>\n",
       "      <td>3000</td>\n",
       "      <td>2023</td>\n",
       "    </tr>\n",
       "  </tbody>\n",
       "</table>\n",
       "<p>211 rows × 2 columns</p>\n",
       "</div>"
      ],
      "text/plain": [
       "                                                                                 Electricity_generated_kW  \\\n",
       "Country                                       Region                                                        \n",
       "CHINA                                         East and Southeast Asia                          2949000000   \n",
       "UNITED STATES                                 North America                                    1235000000   \n",
       "INDIA                                         South Asia                                        499136000   \n",
       "JAPAN                                         East and Southeast Asia                           361617000   \n",
       "RUSSIA                                        Central Asia                                      301926000   \n",
       "...                                                                                                   ...   \n",
       "KIRIBATI                                      Australia and Oceania                                 12000   \n",
       "FALKLAND ISLANDS (ISLAS MALVINAS)             South America                                         10000   \n",
       "MONTSERRAT                                    Central America and the Caribbean                      6000   \n",
       "SAINT HELENA, ASCENSION, AND TRISTAN DA CUNHA Africa                                                 5000   \n",
       "NIUE                                          Australia and Oceania                                  3000   \n",
       "\n",
       "                                                                                 Year_electricity  \n",
       "Country                                       Region                                               \n",
       "CHINA                                         East and Southeast Asia                        2023  \n",
       "UNITED STATES                                 North America                                  2023  \n",
       "INDIA                                         South Asia                                     2023  \n",
       "JAPAN                                         East and Southeast Asia                        2023  \n",
       "RUSSIA                                        Central Asia                                   2023  \n",
       "...                                                                                           ...  \n",
       "KIRIBATI                                      Australia and Oceania                          2023  \n",
       "FALKLAND ISLANDS (ISLAS MALVINAS)             South America                                  2023  \n",
       "MONTSERRAT                                    Central America and the Caribbean              2023  \n",
       "SAINT HELENA, ASCENSION, AND TRISTAN DA CUNHA Africa                                         2023  \n",
       "NIUE                                          Australia and Oceania                          2023  \n",
       "\n",
       "[211 rows x 2 columns]"
      ]
     },
     "execution_count": 20,
     "metadata": {},
     "output_type": "execute_result"
    }
   ],
   "source": [
    "electricityMerge      #ejemplo de dataframe con doble indice"
   ]
  },
  {
   "cell_type": "code",
   "execution_count": 21,
   "metadata": {
    "id": "3mmY9pZttdic"
   },
   "outputs": [],
   "source": [
    "# aqui se hace la concatenzación horizontal\n",
    "DFsConcatHor=pd.concat([electricityMerge,educationMerge,energyMerge,reservesMerge],axis=1)"
   ]
  },
  {
   "cell_type": "code",
   "execution_count": 22,
   "metadata": {
    "id": "PAAYZp-EUDxE"
   },
   "outputs": [],
   "source": [
    "#aqui se decide eliminar la variable de Years para cada dataframe original, pues al final se obtendrán valores como min, max y mean,\n",
    "#los cuales son independientes de los años, sino de la variable en estudio, por ejemplo, electricity_generated_kW\n",
    "DFsConcatHor.drop(columns=['Year_electricity','Year_education','Year_energy','Year_reserves'],inplace=True)"
   ]
  },
  {
   "cell_type": "code",
   "execution_count": 23,
   "metadata": {
    "colab": {
     "base_uri": "https://localhost:8080/",
     "height": 648
    },
    "id": "LDUuyXK5Up9c",
    "outputId": "87f31de3-8b56-4274-8b63-08f9ffb63bf7"
   },
   "outputs": [
    {
     "data": {
      "text/html": [
       "<div>\n",
       "<style scoped>\n",
       "    .dataframe tbody tr th:only-of-type {\n",
       "        vertical-align: middle;\n",
       "    }\n",
       "\n",
       "    .dataframe tbody tr th {\n",
       "        vertical-align: top;\n",
       "    }\n",
       "\n",
       "    .dataframe thead th {\n",
       "        text-align: right;\n",
       "    }\n",
       "</style>\n",
       "<table border=\"1\" class=\"dataframe\">\n",
       "  <thead>\n",
       "    <tr style=\"text-align: right;\">\n",
       "      <th></th>\n",
       "      <th></th>\n",
       "      <th>Electricity_generated_kW</th>\n",
       "      <th>Education_expenditure_percent_GDP</th>\n",
       "      <th>Energy_consumption_per_capita_BtuPerPerson</th>\n",
       "      <th>Reserves_of_foreign_exchange_dollars</th>\n",
       "    </tr>\n",
       "    <tr>\n",
       "      <th>Country</th>\n",
       "      <th>Region</th>\n",
       "      <th></th>\n",
       "      <th></th>\n",
       "      <th></th>\n",
       "      <th></th>\n",
       "    </tr>\n",
       "  </thead>\n",
       "  <tbody>\n",
       "    <tr>\n",
       "      <th>CHINA</th>\n",
       "      <th>East and Southeast Asia</th>\n",
       "      <td>2.949000e+09</td>\n",
       "      <td>3.6</td>\n",
       "      <td>113805000.0</td>\n",
       "      <td>3.265000e+12</td>\n",
       "    </tr>\n",
       "    <tr>\n",
       "      <th>UNITED STATES</th>\n",
       "      <th>North America</th>\n",
       "      <td>1.235000e+09</td>\n",
       "      <td>6.1</td>\n",
       "      <td>278474000.0</td>\n",
       "      <td>2.277600e+11</td>\n",
       "    </tr>\n",
       "    <tr>\n",
       "      <th>INDIA</th>\n",
       "      <th>South Asia</th>\n",
       "      <td>4.991360e+08</td>\n",
       "      <td>4.5</td>\n",
       "      <td>25179000.0</td>\n",
       "      <td>5.695440e+11</td>\n",
       "    </tr>\n",
       "    <tr>\n",
       "      <th>JAPAN</th>\n",
       "      <th>East and Southeast Asia</th>\n",
       "      <td>3.616170e+08</td>\n",
       "      <td>3.4</td>\n",
       "      <td>129504000.0</td>\n",
       "      <td>1.160000e+12</td>\n",
       "    </tr>\n",
       "    <tr>\n",
       "      <th>RUSSIA</th>\n",
       "      <th>Central Asia</th>\n",
       "      <td>3.019260e+08</td>\n",
       "      <td>3.7</td>\n",
       "      <td>224858000.0</td>\n",
       "      <td>5.972170e+11</td>\n",
       "    </tr>\n",
       "    <tr>\n",
       "      <th>...</th>\n",
       "      <th>...</th>\n",
       "      <td>...</td>\n",
       "      <td>...</td>\n",
       "      <td>...</td>\n",
       "      <td>...</td>\n",
       "    </tr>\n",
       "    <tr>\n",
       "      <th>ANGUILLA</th>\n",
       "      <th>Central America and the Caribbean</th>\n",
       "      <td>NaN</td>\n",
       "      <td>4.0</td>\n",
       "      <td>NaN</td>\n",
       "      <td>7.638000e+07</td>\n",
       "    </tr>\n",
       "    <tr>\n",
       "      <th>SAN MARINO</th>\n",
       "      <th>Europe</th>\n",
       "      <td>NaN</td>\n",
       "      <td>3.4</td>\n",
       "      <td>NaN</td>\n",
       "      <td>8.360880e+08</td>\n",
       "    </tr>\n",
       "    <tr>\n",
       "      <th>ANDORRA</th>\n",
       "      <th>Europe</th>\n",
       "      <td>NaN</td>\n",
       "      <td>2.9</td>\n",
       "      <td>NaN</td>\n",
       "      <td>NaN</td>\n",
       "    </tr>\n",
       "    <tr>\n",
       "      <th>LIECHTENSTEIN</th>\n",
       "      <th>Europe</th>\n",
       "      <td>NaN</td>\n",
       "      <td>2.6</td>\n",
       "      <td>NaN</td>\n",
       "      <td>NaN</td>\n",
       "    </tr>\n",
       "    <tr>\n",
       "      <th>MONACO</th>\n",
       "      <th>Europe</th>\n",
       "      <td>NaN</td>\n",
       "      <td>1.2</td>\n",
       "      <td>NaN</td>\n",
       "      <td>NaN</td>\n",
       "    </tr>\n",
       "  </tbody>\n",
       "</table>\n",
       "<p>220 rows × 4 columns</p>\n",
       "</div>"
      ],
      "text/plain": [
       "                                                 Electricity_generated_kW  \\\n",
       "Country       Region                                                        \n",
       "CHINA         East and Southeast Asia                        2.949000e+09   \n",
       "UNITED STATES North America                                  1.235000e+09   \n",
       "INDIA         South Asia                                     4.991360e+08   \n",
       "JAPAN         East and Southeast Asia                        3.616170e+08   \n",
       "RUSSIA        Central Asia                                   3.019260e+08   \n",
       "...                                                                   ...   \n",
       "ANGUILLA      Central America and the Caribbean                       NaN   \n",
       "SAN MARINO    Europe                                                  NaN   \n",
       "ANDORRA       Europe                                                  NaN   \n",
       "LIECHTENSTEIN Europe                                                  NaN   \n",
       "MONACO        Europe                                                  NaN   \n",
       "\n",
       "                                                 Education_expenditure_percent_GDP  \\\n",
       "Country       Region                                                                 \n",
       "CHINA         East and Southeast Asia                                          3.6   \n",
       "UNITED STATES North America                                                    6.1   \n",
       "INDIA         South Asia                                                       4.5   \n",
       "JAPAN         East and Southeast Asia                                          3.4   \n",
       "RUSSIA        Central Asia                                                     3.7   \n",
       "...                                                                            ...   \n",
       "ANGUILLA      Central America and the Caribbean                                4.0   \n",
       "SAN MARINO    Europe                                                           3.4   \n",
       "ANDORRA       Europe                                                           2.9   \n",
       "LIECHTENSTEIN Europe                                                           2.6   \n",
       "MONACO        Europe                                                           1.2   \n",
       "\n",
       "                                                 Energy_consumption_per_capita_BtuPerPerson  \\\n",
       "Country       Region                                                                          \n",
       "CHINA         East and Southeast Asia                                           113805000.0   \n",
       "UNITED STATES North America                                                     278474000.0   \n",
       "INDIA         South Asia                                                         25179000.0   \n",
       "JAPAN         East and Southeast Asia                                           129504000.0   \n",
       "RUSSIA        Central Asia                                                      224858000.0   \n",
       "...                                                                                     ...   \n",
       "ANGUILLA      Central America and the Caribbean                                         NaN   \n",
       "SAN MARINO    Europe                                                                    NaN   \n",
       "ANDORRA       Europe                                                                    NaN   \n",
       "LIECHTENSTEIN Europe                                                                    NaN   \n",
       "MONACO        Europe                                                                    NaN   \n",
       "\n",
       "                                                 Reserves_of_foreign_exchange_dollars  \n",
       "Country       Region                                                                   \n",
       "CHINA         East and Southeast Asia                                    3.265000e+12  \n",
       "UNITED STATES North America                                              2.277600e+11  \n",
       "INDIA         South Asia                                                 5.695440e+11  \n",
       "JAPAN         East and Southeast Asia                                    1.160000e+12  \n",
       "RUSSIA        Central Asia                                               5.972170e+11  \n",
       "...                                                                               ...  \n",
       "ANGUILLA      Central America and the Caribbean                          7.638000e+07  \n",
       "SAN MARINO    Europe                                                     8.360880e+08  \n",
       "ANDORRA       Europe                                                              NaN  \n",
       "LIECHTENSTEIN Europe                                                              NaN  \n",
       "MONACO        Europe                                                              NaN  \n",
       "\n",
       "[220 rows x 4 columns]"
      ]
     },
     "execution_count": 23,
     "metadata": {},
     "output_type": "execute_result"
    }
   ],
   "source": [
    "DFsConcatHor    #se muestra el resultado, pero aun falta resetear el indice"
   ]
  },
  {
   "cell_type": "code",
   "execution_count": 24,
   "metadata": {
    "id": "ESqaVZyWtuj8"
   },
   "outputs": [],
   "source": [
    "# con este codigo se procede a resetear las columnas para que Country y Region sean pd.Series\n",
    "DFsConcatHor.reset_index(inplace=True)"
   ]
  },
  {
   "cell_type": "code",
   "execution_count": 25,
   "metadata": {
    "colab": {
     "base_uri": "https://localhost:8080/",
     "height": 617
    },
    "id": "K5rZDRxfNIek",
    "outputId": "7f3905c8-a7b9-41d9-8bb4-aef9cdff9f6b"
   },
   "outputs": [
    {
     "data": {
      "text/html": [
       "<div>\n",
       "<style scoped>\n",
       "    .dataframe tbody tr th:only-of-type {\n",
       "        vertical-align: middle;\n",
       "    }\n",
       "\n",
       "    .dataframe tbody tr th {\n",
       "        vertical-align: top;\n",
       "    }\n",
       "\n",
       "    .dataframe thead th {\n",
       "        text-align: right;\n",
       "    }\n",
       "</style>\n",
       "<table border=\"1\" class=\"dataframe\">\n",
       "  <thead>\n",
       "    <tr style=\"text-align: right;\">\n",
       "      <th></th>\n",
       "      <th>Country</th>\n",
       "      <th>Region</th>\n",
       "      <th>Electricity_generated_kW</th>\n",
       "      <th>Education_expenditure_percent_GDP</th>\n",
       "      <th>Energy_consumption_per_capita_BtuPerPerson</th>\n",
       "      <th>Reserves_of_foreign_exchange_dollars</th>\n",
       "    </tr>\n",
       "  </thead>\n",
       "  <tbody>\n",
       "    <tr>\n",
       "      <th>0</th>\n",
       "      <td>CHINA</td>\n",
       "      <td>East and Southeast Asia</td>\n",
       "      <td>2.949000e+09</td>\n",
       "      <td>3.6</td>\n",
       "      <td>113805000.0</td>\n",
       "      <td>3.265000e+12</td>\n",
       "    </tr>\n",
       "    <tr>\n",
       "      <th>1</th>\n",
       "      <td>UNITED STATES</td>\n",
       "      <td>North America</td>\n",
       "      <td>1.235000e+09</td>\n",
       "      <td>6.1</td>\n",
       "      <td>278474000.0</td>\n",
       "      <td>2.277600e+11</td>\n",
       "    </tr>\n",
       "    <tr>\n",
       "      <th>2</th>\n",
       "      <td>INDIA</td>\n",
       "      <td>South Asia</td>\n",
       "      <td>4.991360e+08</td>\n",
       "      <td>4.5</td>\n",
       "      <td>25179000.0</td>\n",
       "      <td>5.695440e+11</td>\n",
       "    </tr>\n",
       "    <tr>\n",
       "      <th>3</th>\n",
       "      <td>JAPAN</td>\n",
       "      <td>East and Southeast Asia</td>\n",
       "      <td>3.616170e+08</td>\n",
       "      <td>3.4</td>\n",
       "      <td>129504000.0</td>\n",
       "      <td>1.160000e+12</td>\n",
       "    </tr>\n",
       "    <tr>\n",
       "      <th>4</th>\n",
       "      <td>RUSSIA</td>\n",
       "      <td>Central Asia</td>\n",
       "      <td>3.019260e+08</td>\n",
       "      <td>3.7</td>\n",
       "      <td>224858000.0</td>\n",
       "      <td>5.972170e+11</td>\n",
       "    </tr>\n",
       "    <tr>\n",
       "      <th>...</th>\n",
       "      <td>...</td>\n",
       "      <td>...</td>\n",
       "      <td>...</td>\n",
       "      <td>...</td>\n",
       "      <td>...</td>\n",
       "      <td>...</td>\n",
       "    </tr>\n",
       "    <tr>\n",
       "      <th>215</th>\n",
       "      <td>ANGUILLA</td>\n",
       "      <td>Central America and the Caribbean</td>\n",
       "      <td>NaN</td>\n",
       "      <td>4.0</td>\n",
       "      <td>NaN</td>\n",
       "      <td>7.638000e+07</td>\n",
       "    </tr>\n",
       "    <tr>\n",
       "      <th>216</th>\n",
       "      <td>SAN MARINO</td>\n",
       "      <td>Europe</td>\n",
       "      <td>NaN</td>\n",
       "      <td>3.4</td>\n",
       "      <td>NaN</td>\n",
       "      <td>8.360880e+08</td>\n",
       "    </tr>\n",
       "    <tr>\n",
       "      <th>217</th>\n",
       "      <td>ANDORRA</td>\n",
       "      <td>Europe</td>\n",
       "      <td>NaN</td>\n",
       "      <td>2.9</td>\n",
       "      <td>NaN</td>\n",
       "      <td>NaN</td>\n",
       "    </tr>\n",
       "    <tr>\n",
       "      <th>218</th>\n",
       "      <td>LIECHTENSTEIN</td>\n",
       "      <td>Europe</td>\n",
       "      <td>NaN</td>\n",
       "      <td>2.6</td>\n",
       "      <td>NaN</td>\n",
       "      <td>NaN</td>\n",
       "    </tr>\n",
       "    <tr>\n",
       "      <th>219</th>\n",
       "      <td>MONACO</td>\n",
       "      <td>Europe</td>\n",
       "      <td>NaN</td>\n",
       "      <td>1.2</td>\n",
       "      <td>NaN</td>\n",
       "      <td>NaN</td>\n",
       "    </tr>\n",
       "  </tbody>\n",
       "</table>\n",
       "<p>220 rows × 6 columns</p>\n",
       "</div>"
      ],
      "text/plain": [
       "           Country                             Region  \\\n",
       "0            CHINA            East and Southeast Asia   \n",
       "1    UNITED STATES                      North America   \n",
       "2            INDIA                         South Asia   \n",
       "3            JAPAN            East and Southeast Asia   \n",
       "4           RUSSIA                       Central Asia   \n",
       "..             ...                                ...   \n",
       "215       ANGUILLA  Central America and the Caribbean   \n",
       "216     SAN MARINO                             Europe   \n",
       "217        ANDORRA                             Europe   \n",
       "218  LIECHTENSTEIN                             Europe   \n",
       "219         MONACO                             Europe   \n",
       "\n",
       "     Electricity_generated_kW  Education_expenditure_percent_GDP  \\\n",
       "0                2.949000e+09                                3.6   \n",
       "1                1.235000e+09                                6.1   \n",
       "2                4.991360e+08                                4.5   \n",
       "3                3.616170e+08                                3.4   \n",
       "4                3.019260e+08                                3.7   \n",
       "..                        ...                                ...   \n",
       "215                       NaN                                4.0   \n",
       "216                       NaN                                3.4   \n",
       "217                       NaN                                2.9   \n",
       "218                       NaN                                2.6   \n",
       "219                       NaN                                1.2   \n",
       "\n",
       "     Energy_consumption_per_capita_BtuPerPerson  \\\n",
       "0                                   113805000.0   \n",
       "1                                   278474000.0   \n",
       "2                                    25179000.0   \n",
       "3                                   129504000.0   \n",
       "4                                   224858000.0   \n",
       "..                                          ...   \n",
       "215                                         NaN   \n",
       "216                                         NaN   \n",
       "217                                         NaN   \n",
       "218                                         NaN   \n",
       "219                                         NaN   \n",
       "\n",
       "     Reserves_of_foreign_exchange_dollars  \n",
       "0                            3.265000e+12  \n",
       "1                            2.277600e+11  \n",
       "2                            5.695440e+11  \n",
       "3                            1.160000e+12  \n",
       "4                            5.972170e+11  \n",
       "..                                    ...  \n",
       "215                          7.638000e+07  \n",
       "216                          8.360880e+08  \n",
       "217                                   NaN  \n",
       "218                                   NaN  \n",
       "219                                   NaN  \n",
       "\n",
       "[220 rows x 6 columns]"
      ]
     },
     "execution_count": 25,
     "metadata": {},
     "output_type": "execute_result"
    }
   ],
   "source": [
    "DFsConcatHor      #el resultado es el siguiente, pero todavía se observ que existen missing values, los cuales podrían afectar las\n",
    "                  #estadisticas, por lo que se decide borrarlos"
   ]
  },
  {
   "cell_type": "code",
   "execution_count": 26,
   "metadata": {
    "id": "1JnpXIBlyXAo"
   },
   "outputs": [],
   "source": [
    "#comndo para borrar cualquier fila en el que haya algún missing value\n",
    "final1=DFsConcatHor[~DFsConcatHor.isnull().any(axis=1)]                #hay 220-176 filas en las que hay algun valor nulo"
   ]
  },
  {
   "cell_type": "code",
   "execution_count": 27,
   "metadata": {
    "id": "gtEhxFuED-tD"
   },
   "outputs": [],
   "source": [
    "final1.reset_index(drop=True,inplace=True)          # codigo para resetear el index que se malogró por borrar las filas"
   ]
  },
  {
   "cell_type": "code",
   "execution_count": 28,
   "metadata": {
    "colab": {
     "base_uri": "https://localhost:8080/",
     "height": 704
    },
    "id": "WcVJE6mOb57l",
    "outputId": "2fd31d2c-9a3d-4a8b-a2b3-d0ac5fa904fb"
   },
   "outputs": [
    {
     "data": {
      "text/html": [
       "<div>\n",
       "<style scoped>\n",
       "    .dataframe tbody tr th:only-of-type {\n",
       "        vertical-align: middle;\n",
       "    }\n",
       "\n",
       "    .dataframe tbody tr th {\n",
       "        vertical-align: top;\n",
       "    }\n",
       "\n",
       "    .dataframe thead th {\n",
       "        text-align: right;\n",
       "    }\n",
       "</style>\n",
       "<table border=\"1\" class=\"dataframe\">\n",
       "  <thead>\n",
       "    <tr style=\"text-align: right;\">\n",
       "      <th></th>\n",
       "      <th>Country</th>\n",
       "      <th>Region</th>\n",
       "      <th>Electricity_generated_kW</th>\n",
       "      <th>Education_expenditure_percent_GDP</th>\n",
       "      <th>Energy_consumption_per_capita_BtuPerPerson</th>\n",
       "      <th>Reserves_of_foreign_exchange_dollars</th>\n",
       "    </tr>\n",
       "  </thead>\n",
       "  <tbody>\n",
       "    <tr>\n",
       "      <th>0</th>\n",
       "      <td>CHINA</td>\n",
       "      <td>East and Southeast Asia</td>\n",
       "      <td>2.949000e+09</td>\n",
       "      <td>3.6</td>\n",
       "      <td>113805000.0</td>\n",
       "      <td>3.265000e+12</td>\n",
       "    </tr>\n",
       "    <tr>\n",
       "      <th>1</th>\n",
       "      <td>UNITED STATES</td>\n",
       "      <td>North America</td>\n",
       "      <td>1.235000e+09</td>\n",
       "      <td>6.1</td>\n",
       "      <td>278474000.0</td>\n",
       "      <td>2.277600e+11</td>\n",
       "    </tr>\n",
       "    <tr>\n",
       "      <th>2</th>\n",
       "      <td>INDIA</td>\n",
       "      <td>South Asia</td>\n",
       "      <td>4.991360e+08</td>\n",
       "      <td>4.5</td>\n",
       "      <td>25179000.0</td>\n",
       "      <td>5.695440e+11</td>\n",
       "    </tr>\n",
       "    <tr>\n",
       "      <th>3</th>\n",
       "      <td>JAPAN</td>\n",
       "      <td>East and Southeast Asia</td>\n",
       "      <td>3.616170e+08</td>\n",
       "      <td>3.4</td>\n",
       "      <td>129504000.0</td>\n",
       "      <td>1.160000e+12</td>\n",
       "    </tr>\n",
       "    <tr>\n",
       "      <th>4</th>\n",
       "      <td>RUSSIA</td>\n",
       "      <td>Central Asia</td>\n",
       "      <td>3.019260e+08</td>\n",
       "      <td>3.7</td>\n",
       "      <td>224858000.0</td>\n",
       "      <td>5.972170e+11</td>\n",
       "    </tr>\n",
       "    <tr>\n",
       "      <th>...</th>\n",
       "      <td>...</td>\n",
       "      <td>...</td>\n",
       "      <td>...</td>\n",
       "      <td>...</td>\n",
       "      <td>...</td>\n",
       "      <td>...</td>\n",
       "    </tr>\n",
       "    <tr>\n",
       "      <th>171</th>\n",
       "      <td>SOLOMON ISLANDS</td>\n",
       "      <td>Australia and Oceania</td>\n",
       "      <td>3.700000e+04</td>\n",
       "      <td>12.8</td>\n",
       "      <td>5655000.0</td>\n",
       "      <td>6.882200e+08</td>\n",
       "    </tr>\n",
       "    <tr>\n",
       "      <th>172</th>\n",
       "      <td>TONGA</td>\n",
       "      <td>Australia and Oceania</td>\n",
       "      <td>3.400000e+04</td>\n",
       "      <td>6.6</td>\n",
       "      <td>23272000.0</td>\n",
       "      <td>3.965300e+08</td>\n",
       "    </tr>\n",
       "    <tr>\n",
       "      <th>173</th>\n",
       "      <td>COMOROS</td>\n",
       "      <td>Africa</td>\n",
       "      <td>3.200000e+04</td>\n",
       "      <td>2.6</td>\n",
       "      <td>7139000.0</td>\n",
       "      <td>3.224360e+08</td>\n",
       "    </tr>\n",
       "    <tr>\n",
       "      <th>174</th>\n",
       "      <td>SAO TOME AND PRINCIPE</td>\n",
       "      <td>Africa</td>\n",
       "      <td>2.900000e+04</td>\n",
       "      <td>5.0</td>\n",
       "      <td>8875000.0</td>\n",
       "      <td>4.624700e+07</td>\n",
       "    </tr>\n",
       "    <tr>\n",
       "      <th>175</th>\n",
       "      <td>GUINEA-BISSAU</td>\n",
       "      <td>Africa</td>\n",
       "      <td>2.900000e+04</td>\n",
       "      <td>2.7</td>\n",
       "      <td>2351000.0</td>\n",
       "      <td>3.564000e+08</td>\n",
       "    </tr>\n",
       "  </tbody>\n",
       "</table>\n",
       "<p>176 rows × 6 columns</p>\n",
       "</div>"
      ],
      "text/plain": [
       "                   Country                   Region  Electricity_generated_kW  \\\n",
       "0                    CHINA  East and Southeast Asia              2.949000e+09   \n",
       "1            UNITED STATES            North America              1.235000e+09   \n",
       "2                    INDIA               South Asia              4.991360e+08   \n",
       "3                    JAPAN  East and Southeast Asia              3.616170e+08   \n",
       "4                   RUSSIA             Central Asia              3.019260e+08   \n",
       "..                     ...                      ...                       ...   \n",
       "171        SOLOMON ISLANDS    Australia and Oceania              3.700000e+04   \n",
       "172                  TONGA    Australia and Oceania              3.400000e+04   \n",
       "173                COMOROS                   Africa              3.200000e+04   \n",
       "174  SAO TOME AND PRINCIPE                   Africa              2.900000e+04   \n",
       "175          GUINEA-BISSAU                   Africa              2.900000e+04   \n",
       "\n",
       "     Education_expenditure_percent_GDP  \\\n",
       "0                                  3.6   \n",
       "1                                  6.1   \n",
       "2                                  4.5   \n",
       "3                                  3.4   \n",
       "4                                  3.7   \n",
       "..                                 ...   \n",
       "171                               12.8   \n",
       "172                                6.6   \n",
       "173                                2.6   \n",
       "174                                5.0   \n",
       "175                                2.7   \n",
       "\n",
       "     Energy_consumption_per_capita_BtuPerPerson  \\\n",
       "0                                   113805000.0   \n",
       "1                                   278474000.0   \n",
       "2                                    25179000.0   \n",
       "3                                   129504000.0   \n",
       "4                                   224858000.0   \n",
       "..                                          ...   \n",
       "171                                   5655000.0   \n",
       "172                                  23272000.0   \n",
       "173                                   7139000.0   \n",
       "174                                   8875000.0   \n",
       "175                                   2351000.0   \n",
       "\n",
       "     Reserves_of_foreign_exchange_dollars  \n",
       "0                            3.265000e+12  \n",
       "1                            2.277600e+11  \n",
       "2                            5.695440e+11  \n",
       "3                            1.160000e+12  \n",
       "4                            5.972170e+11  \n",
       "..                                    ...  \n",
       "171                          6.882200e+08  \n",
       "172                          3.965300e+08  \n",
       "173                          3.224360e+08  \n",
       "174                          4.624700e+07  \n",
       "175                          3.564000e+08  \n",
       "\n",
       "[176 rows x 6 columns]"
      ]
     },
     "execution_count": 28,
     "metadata": {},
     "output_type": "execute_result"
    }
   ],
   "source": [
    "final1            #este es el resultado final de haber hecho el merging de los dataframes"
   ]
  },
  {
   "cell_type": "markdown",
   "metadata": {
    "id": "EVDhpKsgLDWh"
   },
   "source": [
    "## Transformación"
   ]
  },
  {
   "cell_type": "markdown",
   "metadata": {
    "id": "7P6m_SksL1iu"
   },
   "source": [
    "4. Report the average, min and max for the variables (reserves, energy, electricity. education) by region.\n",
    "5. Create new columns for each variable , so that they are in 5 intervals. Choose the same methods for the four variables. Two decisiones here.\n",
    "\n",
    "6. Save the final result: country, region and the eight variables."
   ]
  },
  {
   "cell_type": "markdown",
   "metadata": {
    "id": "RDXkJYDykGye"
   },
   "source": [
    "### Task 4"
   ]
  },
  {
   "cell_type": "code",
   "execution_count": 29,
   "metadata": {
    "colab": {
     "base_uri": "https://localhost:8080/"
    },
    "id": "HHcBuI4hE0zL",
    "outputId": "eb7e6c25-9bd9-4244-c1d4-522757e203a5"
   },
   "outputs": [
    {
     "name": "stderr",
     "output_type": "stream",
     "text": [
      "C:\\Users\\ADMIN\\AppData\\Local\\Temp\\ipykernel_17760\\3809019511.py:4: FutureWarning: The default of observed=False is deprecated and will be changed to True in a future version of pandas. Pass observed=False to retain current behavior or observed=True to adopt the future default and silence this warning.\n",
      "  final1Stats=final1.groupby('Region')[varsAggregated].agg(functionForVars)\n"
     ]
    }
   ],
   "source": [
    "#codigo para agrupar a las columnas con datos numericos segun Region y se obtiene valores estadisticos como min, max y mean\n",
    "varsAggregated=['Electricity_generated_kW','Education_expenditure_percent_GDP','Energy_consumption_per_capita_BtuPerPerson','Reserves_of_foreign_exchange_dollars']\n",
    "functionForVars=['mean','min','max']\n",
    "final1Stats=final1.groupby('Region')[varsAggregated].agg(functionForVars)"
   ]
  },
  {
   "cell_type": "code",
   "execution_count": 30,
   "metadata": {
    "colab": {
     "base_uri": "https://localhost:8080/"
    },
    "id": "lMSDmsIYZiE3",
    "outputId": "a14fa299-a7dd-443c-c5be-d9c7772d1285"
   },
   "outputs": [
    {
     "data": {
      "text/plain": [
       "Index([                  ('Electricity_generated_kW', 'mean'),\n",
       "                          ('Electricity_generated_kW', 'min'),\n",
       "                          ('Electricity_generated_kW', 'max'),\n",
       "                ('Education_expenditure_percent_GDP', 'mean'),\n",
       "                 ('Education_expenditure_percent_GDP', 'min'),\n",
       "                 ('Education_expenditure_percent_GDP', 'max'),\n",
       "       ('Energy_consumption_per_capita_BtuPerPerson', 'mean'),\n",
       "        ('Energy_consumption_per_capita_BtuPerPerson', 'min'),\n",
       "        ('Energy_consumption_per_capita_BtuPerPerson', 'max'),\n",
       "             ('Reserves_of_foreign_exchange_dollars', 'mean'),\n",
       "              ('Reserves_of_foreign_exchange_dollars', 'min'),\n",
       "              ('Reserves_of_foreign_exchange_dollars', 'max')],\n",
       "      dtype='object')"
      ]
     },
     "execution_count": 30,
     "metadata": {},
     "output_type": "execute_result"
    }
   ],
   "source": [
    "final1Stats.columns.to_flat_index()   #se procede a cambiar de multi-indexing a flat-index para columnas"
   ]
  },
  {
   "cell_type": "code",
   "execution_count": 31,
   "metadata": {
    "id": "A1ZB-ovXZLsK"
   },
   "outputs": [],
   "source": [
    "# se cambiará del multi indexing a index normal las columnas se resetearan a 1 solo index\n",
    "\n",
    "final1Stats.columns=['_'.join(col) for col in final1Stats.columns.to_flat_index()]"
   ]
  },
  {
   "cell_type": "code",
   "execution_count": 32,
   "metadata": {
    "id": "_WMR8hKyaOKe"
   },
   "outputs": [],
   "source": [
    "final1Stats.reset_index(drop=False, inplace=True)"
   ]
  },
  {
   "cell_type": "code",
   "execution_count": 33,
   "metadata": {
    "colab": {
     "base_uri": "https://localhost:8080/",
     "height": 591
    },
    "id": "TeLTpjlnjC6W",
    "outputId": "20254d9e-749c-4ed0-be64-6d2bd4ea3370"
   },
   "outputs": [
    {
     "data": {
      "text/html": [
       "<div>\n",
       "<style scoped>\n",
       "    .dataframe tbody tr th:only-of-type {\n",
       "        vertical-align: middle;\n",
       "    }\n",
       "\n",
       "    .dataframe tbody tr th {\n",
       "        vertical-align: top;\n",
       "    }\n",
       "\n",
       "    .dataframe thead th {\n",
       "        text-align: right;\n",
       "    }\n",
       "</style>\n",
       "<table border=\"1\" class=\"dataframe\">\n",
       "  <thead>\n",
       "    <tr style=\"text-align: right;\">\n",
       "      <th></th>\n",
       "      <th>Region</th>\n",
       "      <th>Electricity_generated_kW_mean</th>\n",
       "      <th>Electricity_generated_kW_min</th>\n",
       "      <th>Electricity_generated_kW_max</th>\n",
       "      <th>Education_expenditure_percent_GDP_mean</th>\n",
       "      <th>Education_expenditure_percent_GDP_min</th>\n",
       "      <th>Education_expenditure_percent_GDP_max</th>\n",
       "      <th>Energy_consumption_per_capita_BtuPerPerson_mean</th>\n",
       "      <th>Energy_consumption_per_capita_BtuPerPerson_min</th>\n",
       "      <th>Energy_consumption_per_capita_BtuPerPerson_max</th>\n",
       "      <th>Reserves_of_foreign_exchange_dollars_mean</th>\n",
       "      <th>Reserves_of_foreign_exchange_dollars_min</th>\n",
       "      <th>Reserves_of_foreign_exchange_dollars_max</th>\n",
       "    </tr>\n",
       "  </thead>\n",
       "  <tbody>\n",
       "    <tr>\n",
       "      <th>0</th>\n",
       "      <td>East and Southeast Asia</td>\n",
       "      <td>2.108446e+08</td>\n",
       "      <td>277000.0</td>\n",
       "      <td>2.949000e+09</td>\n",
       "      <td>3.633333</td>\n",
       "      <td>1.4</td>\n",
       "      <td>6.3</td>\n",
       "      <td>1.186874e+08</td>\n",
       "      <td>6825000.0</td>\n",
       "      <td>643259000.0</td>\n",
       "      <td>3.536142e+11</td>\n",
       "      <td>7.819950e+08</td>\n",
       "      <td>3.265000e+12</td>\n",
       "    </tr>\n",
       "    <tr>\n",
       "      <th>1</th>\n",
       "      <td>North America</td>\n",
       "      <td>5.008580e+08</td>\n",
       "      <td>105586000.0</td>\n",
       "      <td>1.235000e+09</td>\n",
       "      <td>5.200000</td>\n",
       "      <td>4.3</td>\n",
       "      <td>6.1</td>\n",
       "      <td>2.158707e+08</td>\n",
       "      <td>57539000.0</td>\n",
       "      <td>311599000.0</td>\n",
       "      <td>1.890850e+11</td>\n",
       "      <td>1.175510e+11</td>\n",
       "      <td>2.277600e+11</td>\n",
       "    </tr>\n",
       "    <tr>\n",
       "      <th>2</th>\n",
       "      <td>South Asia</td>\n",
       "      <td>7.211612e+07</td>\n",
       "      <td>432000.0</td>\n",
       "      <td>4.991360e+08</td>\n",
       "      <td>3.850000</td>\n",
       "      <td>1.9</td>\n",
       "      <td>7.0</td>\n",
       "      <td>2.350638e+07</td>\n",
       "      <td>3380000.0</td>\n",
       "      <td>64082000.0</td>\n",
       "      <td>7.907593e+10</td>\n",
       "      <td>6.732030e+08</td>\n",
       "      <td>5.695440e+11</td>\n",
       "    </tr>\n",
       "    <tr>\n",
       "      <th>3</th>\n",
       "      <td>Central Asia</td>\n",
       "      <td>4.239578e+07</td>\n",
       "      <td>3944000.0</td>\n",
       "      <td>3.019260e+08</td>\n",
       "      <td>4.333333</td>\n",
       "      <td>2.8</td>\n",
       "      <td>6.2</td>\n",
       "      <td>1.039161e+08</td>\n",
       "      <td>16192000.0</td>\n",
       "      <td>261142000.0</td>\n",
       "      <td>7.555822e+10</td>\n",
       "      <td>3.237000e+09</td>\n",
       "      <td>5.972170e+11</td>\n",
       "    </tr>\n",
       "    <tr>\n",
       "      <th>4</th>\n",
       "      <td>Europe</td>\n",
       "      <td>4.027509e+07</td>\n",
       "      <td>779000.0</td>\n",
       "      <td>2.756580e+08</td>\n",
       "      <td>5.151429</td>\n",
       "      <td>3.1</td>\n",
       "      <td>7.2</td>\n",
       "      <td>1.131422e+08</td>\n",
       "      <td>27407000.0</td>\n",
       "      <td>234698000.0</td>\n",
       "      <td>6.415875e+10</td>\n",
       "      <td>9.212690e+08</td>\n",
       "      <td>8.221300e+11</td>\n",
       "    </tr>\n",
       "    <tr>\n",
       "      <th>5</th>\n",
       "      <td>South America</td>\n",
       "      <td>3.550408e+07</td>\n",
       "      <td>259000.0</td>\n",
       "      <td>2.402510e+08</td>\n",
       "      <td>4.808333</td>\n",
       "      <td>1.3</td>\n",
       "      <td>9.8</td>\n",
       "      <td>4.641467e+07</td>\n",
       "      <td>25733000.0</td>\n",
       "      <td>78496000.0</td>\n",
       "      <td>4.748692e+10</td>\n",
       "      <td>8.710000e+07</td>\n",
       "      <td>3.188570e+11</td>\n",
       "    </tr>\n",
       "    <tr>\n",
       "      <th>6</th>\n",
       "      <td>Middle East</td>\n",
       "      <td>3.381729e+07</td>\n",
       "      <td>352000.0</td>\n",
       "      <td>1.196200e+08</td>\n",
       "      <td>4.528571</td>\n",
       "      <td>1.7</td>\n",
       "      <td>7.8</td>\n",
       "      <td>2.406509e+08</td>\n",
       "      <td>14991000.0</td>\n",
       "      <td>814308000.0</td>\n",
       "      <td>9.432479e+10</td>\n",
       "      <td>1.328000e+09</td>\n",
       "      <td>4.367690e+11</td>\n",
       "    </tr>\n",
       "    <tr>\n",
       "      <th>7</th>\n",
       "      <td>Australia and Oceania</td>\n",
       "      <td>1.706100e+07</td>\n",
       "      <td>34000.0</td>\n",
       "      <td>1.081930e+08</td>\n",
       "      <td>6.314286</td>\n",
       "      <td>2.2</td>\n",
       "      <td>12.8</td>\n",
       "      <td>6.221671e+07</td>\n",
       "      <td>5655000.0</td>\n",
       "      <td>223158000.0</td>\n",
       "      <td>1.147904e+10</td>\n",
       "      <td>3.965300e+08</td>\n",
       "      <td>5.445500e+10</td>\n",
       "    </tr>\n",
       "    <tr>\n",
       "      <th>8</th>\n",
       "      <td>Africa</td>\n",
       "      <td>4.619820e+06</td>\n",
       "      <td>29000.0</td>\n",
       "      <td>6.598900e+07</td>\n",
       "      <td>4.268000</td>\n",
       "      <td>0.3</td>\n",
       "      <td>9.6</td>\n",
       "      <td>1.412284e+07</td>\n",
       "      <td>649000.0</td>\n",
       "      <td>98847000.0</td>\n",
       "      <td>6.860587e+09</td>\n",
       "      <td>3.045000e+07</td>\n",
       "      <td>6.844800e+10</td>\n",
       "    </tr>\n",
       "    <tr>\n",
       "      <th>9</th>\n",
       "      <td>Central America and the Caribbean</td>\n",
       "      <td>1.580500e+06</td>\n",
       "      <td>41000.0</td>\n",
       "      <td>6.581000e+06</td>\n",
       "      <td>4.555000</td>\n",
       "      <td>1.4</td>\n",
       "      <td>8.7</td>\n",
       "      <td>5.587300e+07</td>\n",
       "      <td>3486000.0</td>\n",
       "      <td>153952000.0</td>\n",
       "      <td>4.561870e+09</td>\n",
       "      <td>1.559710e+08</td>\n",
       "      <td>2.383400e+10</td>\n",
       "    </tr>\n",
       "  </tbody>\n",
       "</table>\n",
       "</div>"
      ],
      "text/plain": [
       "                              Region  Electricity_generated_kW_mean  \\\n",
       "0            East and Southeast Asia                   2.108446e+08   \n",
       "1                      North America                   5.008580e+08   \n",
       "2                         South Asia                   7.211612e+07   \n",
       "3                       Central Asia                   4.239578e+07   \n",
       "4                             Europe                   4.027509e+07   \n",
       "5                      South America                   3.550408e+07   \n",
       "6                        Middle East                   3.381729e+07   \n",
       "7              Australia and Oceania                   1.706100e+07   \n",
       "8                             Africa                   4.619820e+06   \n",
       "9  Central America and the Caribbean                   1.580500e+06   \n",
       "\n",
       "   Electricity_generated_kW_min  Electricity_generated_kW_max  \\\n",
       "0                      277000.0                  2.949000e+09   \n",
       "1                   105586000.0                  1.235000e+09   \n",
       "2                      432000.0                  4.991360e+08   \n",
       "3                     3944000.0                  3.019260e+08   \n",
       "4                      779000.0                  2.756580e+08   \n",
       "5                      259000.0                  2.402510e+08   \n",
       "6                      352000.0                  1.196200e+08   \n",
       "7                       34000.0                  1.081930e+08   \n",
       "8                       29000.0                  6.598900e+07   \n",
       "9                       41000.0                  6.581000e+06   \n",
       "\n",
       "   Education_expenditure_percent_GDP_mean  \\\n",
       "0                                3.633333   \n",
       "1                                5.200000   \n",
       "2                                3.850000   \n",
       "3                                4.333333   \n",
       "4                                5.151429   \n",
       "5                                4.808333   \n",
       "6                                4.528571   \n",
       "7                                6.314286   \n",
       "8                                4.268000   \n",
       "9                                4.555000   \n",
       "\n",
       "   Education_expenditure_percent_GDP_min  \\\n",
       "0                                    1.4   \n",
       "1                                    4.3   \n",
       "2                                    1.9   \n",
       "3                                    2.8   \n",
       "4                                    3.1   \n",
       "5                                    1.3   \n",
       "6                                    1.7   \n",
       "7                                    2.2   \n",
       "8                                    0.3   \n",
       "9                                    1.4   \n",
       "\n",
       "   Education_expenditure_percent_GDP_max  \\\n",
       "0                                    6.3   \n",
       "1                                    6.1   \n",
       "2                                    7.0   \n",
       "3                                    6.2   \n",
       "4                                    7.2   \n",
       "5                                    9.8   \n",
       "6                                    7.8   \n",
       "7                                   12.8   \n",
       "8                                    9.6   \n",
       "9                                    8.7   \n",
       "\n",
       "   Energy_consumption_per_capita_BtuPerPerson_mean  \\\n",
       "0                                     1.186874e+08   \n",
       "1                                     2.158707e+08   \n",
       "2                                     2.350638e+07   \n",
       "3                                     1.039161e+08   \n",
       "4                                     1.131422e+08   \n",
       "5                                     4.641467e+07   \n",
       "6                                     2.406509e+08   \n",
       "7                                     6.221671e+07   \n",
       "8                                     1.412284e+07   \n",
       "9                                     5.587300e+07   \n",
       "\n",
       "   Energy_consumption_per_capita_BtuPerPerson_min  \\\n",
       "0                                       6825000.0   \n",
       "1                                      57539000.0   \n",
       "2                                       3380000.0   \n",
       "3                                      16192000.0   \n",
       "4                                      27407000.0   \n",
       "5                                      25733000.0   \n",
       "6                                      14991000.0   \n",
       "7                                       5655000.0   \n",
       "8                                        649000.0   \n",
       "9                                       3486000.0   \n",
       "\n",
       "   Energy_consumption_per_capita_BtuPerPerson_max  \\\n",
       "0                                     643259000.0   \n",
       "1                                     311599000.0   \n",
       "2                                      64082000.0   \n",
       "3                                     261142000.0   \n",
       "4                                     234698000.0   \n",
       "5                                      78496000.0   \n",
       "6                                     814308000.0   \n",
       "7                                     223158000.0   \n",
       "8                                      98847000.0   \n",
       "9                                     153952000.0   \n",
       "\n",
       "   Reserves_of_foreign_exchange_dollars_mean  \\\n",
       "0                               3.536142e+11   \n",
       "1                               1.890850e+11   \n",
       "2                               7.907593e+10   \n",
       "3                               7.555822e+10   \n",
       "4                               6.415875e+10   \n",
       "5                               4.748692e+10   \n",
       "6                               9.432479e+10   \n",
       "7                               1.147904e+10   \n",
       "8                               6.860587e+09   \n",
       "9                               4.561870e+09   \n",
       "\n",
       "   Reserves_of_foreign_exchange_dollars_min  \\\n",
       "0                              7.819950e+08   \n",
       "1                              1.175510e+11   \n",
       "2                              6.732030e+08   \n",
       "3                              3.237000e+09   \n",
       "4                              9.212690e+08   \n",
       "5                              8.710000e+07   \n",
       "6                              1.328000e+09   \n",
       "7                              3.965300e+08   \n",
       "8                              3.045000e+07   \n",
       "9                              1.559710e+08   \n",
       "\n",
       "   Reserves_of_foreign_exchange_dollars_max  \n",
       "0                              3.265000e+12  \n",
       "1                              2.277600e+11  \n",
       "2                              5.695440e+11  \n",
       "3                              5.972170e+11  \n",
       "4                              8.221300e+11  \n",
       "5                              3.188570e+11  \n",
       "6                              4.367690e+11  \n",
       "7                              5.445500e+10  \n",
       "8                              6.844800e+10  \n",
       "9                              2.383400e+10  "
      ]
     },
     "execution_count": 33,
     "metadata": {},
     "output_type": "execute_result"
    }
   ],
   "source": [
    "final1Stats       #Aqui se obtiene el resultaado pedido por el Task 4"
   ]
  },
  {
   "cell_type": "markdown",
   "metadata": {
    "id": "5p5mKGIykKH3"
   },
   "source": [
    "### Task 5"
   ]
  },
  {
   "cell_type": "code",
   "execution_count": 34,
   "metadata": {
    "colab": {
     "base_uri": "https://localhost:8080/",
     "height": 466
    },
    "id": "C00nbG_sbAS1",
    "outputId": "4b3ebe1f-3b8e-4f96-af9d-a9460f81bd5b"
   },
   "outputs": [
    {
     "name": "stderr",
     "output_type": "stream",
     "text": [
      "Matplotlib is building the font cache; this may take a moment.\n"
     ]
    },
    {
     "data": {
      "text/plain": [
       "<Axes: >"
      ]
     },
     "execution_count": 34,
     "metadata": {},
     "output_type": "execute_result"
    }
   ],
   "source": [
    "#ahora se procede con el diagrama de caja para ver la distribución de los datos en cada columna.\n",
    "#Esto se hace para observar si existen valores atípicos\n",
    "\n",
    "%matplotlib inline\n",
    "\n",
    "vars=['Electricity_generated_kW','Education_expenditure_percent_GDP', 'Energy_consumption_per_capita_BtuPerPerson', 'Reserves_of_foreign_exchange_dollars']\n",
    "final1.loc[:,vars].boxplot(vert=False)"
   ]
  },
  {
   "cell_type": "code",
   "execution_count": 35,
   "metadata": {
    "colab": {
     "base_uri": "https://localhost:8080/",
     "height": 448
    },
    "id": "xaFrLx7nch4v",
    "outputId": "510747d4-90b0-4a3c-bd4e-c8efefaa2f54"
   },
   "outputs": [
    {
     "data": {
      "text/plain": [
       "<Axes: >"
      ]
     },
     "execution_count": 35,
     "metadata": {},
     "output_type": "execute_result"
    }
   ],
   "source": [
    "# ante la presencia de datos atípicos, se procede a hacer el boxplot con robustScaler, por lo que los datos cambian\n",
    "from sklearn.preprocessing import RobustScaler\n",
    "scaler = RobustScaler(unit_variance=True,with_centering=False)\n",
    "robScaled_data = scaler.fit_transform(final1.loc[:,vars])\n",
    "\n",
    "pd.DataFrame(robScaled_data,columns=vars).boxplot(vert=False)\n"
   ]
  },
  {
   "cell_type": "code",
   "execution_count": 36,
   "metadata": {
    "id": "JM_FdjRSeAA8"
   },
   "outputs": [],
   "source": [
    "#robustScaler cambia los datos, por lo que los nuevos datos serían:\n",
    "\n",
    "vars_rob_names=[v+'_rob' for v in vars] # los nuevos nombres\n",
    "\n",
    "final1_robust=pd.DataFrame(robScaled_data,columns=vars_rob_names)\n",
    "final1_copy=final1.copy()\n",
    "final1_copy[vars_rob_names]=robScaled_data"
   ]
  },
  {
   "cell_type": "code",
   "execution_count": 37,
   "metadata": {
    "colab": {
     "base_uri": "https://localhost:8080/",
     "height": 443
    },
    "id": "dFw1Z6Q7eL-U",
    "outputId": "cf184b9d-750f-46ab-b15f-cfab99e390d3"
   },
   "outputs": [
    {
     "data": {
      "text/html": [
       "<div>\n",
       "<style scoped>\n",
       "    .dataframe tbody tr th:only-of-type {\n",
       "        vertical-align: middle;\n",
       "    }\n",
       "\n",
       "    .dataframe tbody tr th {\n",
       "        vertical-align: top;\n",
       "    }\n",
       "\n",
       "    .dataframe thead th {\n",
       "        text-align: right;\n",
       "    }\n",
       "</style>\n",
       "<table border=\"1\" class=\"dataframe\">\n",
       "  <thead>\n",
       "    <tr style=\"text-align: right;\">\n",
       "      <th></th>\n",
       "      <th>Electricity_generated_kW_rob</th>\n",
       "      <th>Education_expenditure_percent_GDP_rob</th>\n",
       "      <th>Energy_consumption_per_capita_BtuPerPerson_rob</th>\n",
       "      <th>Reserves_of_foreign_exchange_dollars_rob</th>\n",
       "    </tr>\n",
       "  </thead>\n",
       "  <tbody>\n",
       "    <tr>\n",
       "      <th>0</th>\n",
       "      <td>180.730098</td>\n",
       "      <td>2.088742</td>\n",
       "      <td>1.694928</td>\n",
       "      <td>117.004970</td>\n",
       "    </tr>\n",
       "    <tr>\n",
       "      <th>1</th>\n",
       "      <td>75.687240</td>\n",
       "      <td>3.539258</td>\n",
       "      <td>4.147386</td>\n",
       "      <td>8.162037</td>\n",
       "    </tr>\n",
       "    <tr>\n",
       "      <th>2</th>\n",
       "      <td>30.589657</td>\n",
       "      <td>2.610928</td>\n",
       "      <td>0.374997</td>\n",
       "      <td>20.410254</td>\n",
       "    </tr>\n",
       "    <tr>\n",
       "      <th>3</th>\n",
       "      <td>22.161775</td>\n",
       "      <td>1.972701</td>\n",
       "      <td>1.928737</td>\n",
       "      <td>41.569913</td>\n",
       "    </tr>\n",
       "    <tr>\n",
       "      <th>4</th>\n",
       "      <td>18.503600</td>\n",
       "      <td>2.146763</td>\n",
       "      <td>3.348869</td>\n",
       "      <td>21.401947</td>\n",
       "    </tr>\n",
       "    <tr>\n",
       "      <th>...</th>\n",
       "      <td>...</td>\n",
       "      <td>...</td>\n",
       "      <td>...</td>\n",
       "      <td>...</td>\n",
       "    </tr>\n",
       "    <tr>\n",
       "      <th>171</th>\n",
       "      <td>0.002268</td>\n",
       "      <td>7.426640</td>\n",
       "      <td>0.084221</td>\n",
       "      <td>0.024663</td>\n",
       "    </tr>\n",
       "    <tr>\n",
       "      <th>172</th>\n",
       "      <td>0.002084</td>\n",
       "      <td>3.829361</td>\n",
       "      <td>0.346596</td>\n",
       "      <td>0.014210</td>\n",
       "    </tr>\n",
       "    <tr>\n",
       "      <th>173</th>\n",
       "      <td>0.001961</td>\n",
       "      <td>1.508536</td>\n",
       "      <td>0.106323</td>\n",
       "      <td>0.011555</td>\n",
       "    </tr>\n",
       "    <tr>\n",
       "      <th>174</th>\n",
       "      <td>0.001777</td>\n",
       "      <td>2.901031</td>\n",
       "      <td>0.132178</td>\n",
       "      <td>0.001657</td>\n",
       "    </tr>\n",
       "    <tr>\n",
       "      <th>175</th>\n",
       "      <td>0.001777</td>\n",
       "      <td>1.566557</td>\n",
       "      <td>0.035014</td>\n",
       "      <td>0.012772</td>\n",
       "    </tr>\n",
       "  </tbody>\n",
       "</table>\n",
       "<p>176 rows × 4 columns</p>\n",
       "</div>"
      ],
      "text/plain": [
       "     Electricity_generated_kW_rob  Education_expenditure_percent_GDP_rob  \\\n",
       "0                      180.730098                               2.088742   \n",
       "1                       75.687240                               3.539258   \n",
       "2                       30.589657                               2.610928   \n",
       "3                       22.161775                               1.972701   \n",
       "4                       18.503600                               2.146763   \n",
       "..                            ...                                    ...   \n",
       "171                      0.002268                               7.426640   \n",
       "172                      0.002084                               3.829361   \n",
       "173                      0.001961                               1.508536   \n",
       "174                      0.001777                               2.901031   \n",
       "175                      0.001777                               1.566557   \n",
       "\n",
       "     Energy_consumption_per_capita_BtuPerPerson_rob  \\\n",
       "0                                          1.694928   \n",
       "1                                          4.147386   \n",
       "2                                          0.374997   \n",
       "3                                          1.928737   \n",
       "4                                          3.348869   \n",
       "..                                              ...   \n",
       "171                                        0.084221   \n",
       "172                                        0.346596   \n",
       "173                                        0.106323   \n",
       "174                                        0.132178   \n",
       "175                                        0.035014   \n",
       "\n",
       "     Reserves_of_foreign_exchange_dollars_rob  \n",
       "0                                  117.004970  \n",
       "1                                    8.162037  \n",
       "2                                   20.410254  \n",
       "3                                   41.569913  \n",
       "4                                   21.401947  \n",
       "..                                        ...  \n",
       "171                                  0.024663  \n",
       "172                                  0.014210  \n",
       "173                                  0.011555  \n",
       "174                                  0.001657  \n",
       "175                                  0.012772  \n",
       "\n",
       "[176 rows x 4 columns]"
      ]
     },
     "execution_count": 37,
     "metadata": {},
     "output_type": "execute_result"
    }
   ],
   "source": [
    "final1_robust #los valores modificados por la tecnica Robust"
   ]
  },
  {
   "cell_type": "code",
   "execution_count": 38,
   "metadata": {
    "colab": {
     "base_uri": "https://localhost:8080/"
    },
    "id": "GLxG8EIyeT6y",
    "outputId": "c6978e6f-a08f-451c-d9ff-752e8317caf6"
   },
   "outputs": [
    {
     "name": "stdout",
     "output_type": "stream",
     "text": [
      "Requirement already satisfied: mapclassify in c:\\users\\admin\\anaconda3\\envs\\dataespacial_31111\\lib\\site-packages (2.8.1)\n",
      "Requirement already satisfied: networkx>=2.7 in c:\\users\\admin\\anaconda3\\envs\\dataespacial_31111\\lib\\site-packages (from mapclassify) (3.4.2)\n",
      "Requirement already satisfied: numpy>=1.23 in c:\\users\\admin\\anaconda3\\envs\\dataespacial_31111\\lib\\site-packages (from mapclassify) (2.0.1)\n",
      "Requirement already satisfied: pandas!=1.5.0,>=1.4 in c:\\users\\admin\\anaconda3\\envs\\dataespacial_31111\\lib\\site-packages (from mapclassify) (2.2.3)\n",
      "Requirement already satisfied: scikit-learn>=1.0 in c:\\users\\admin\\anaconda3\\envs\\dataespacial_31111\\lib\\site-packages (from mapclassify) (1.6.1)\n",
      "Requirement already satisfied: scipy>=1.8 in c:\\users\\admin\\anaconda3\\envs\\dataespacial_31111\\lib\\site-packages (from mapclassify) (1.15.2)\n",
      "Requirement already satisfied: python-dateutil>=2.8.2 in c:\\users\\admin\\anaconda3\\envs\\dataespacial_31111\\lib\\site-packages (from pandas!=1.5.0,>=1.4->mapclassify) (2.9.0.post0)\n",
      "Requirement already satisfied: pytz>=2020.1 in c:\\users\\admin\\anaconda3\\envs\\dataespacial_31111\\lib\\site-packages (from pandas!=1.5.0,>=1.4->mapclassify) (2024.1)\n",
      "Requirement already satisfied: tzdata>=2022.7 in c:\\users\\admin\\anaconda3\\envs\\dataespacial_31111\\lib\\site-packages (from pandas!=1.5.0,>=1.4->mapclassify) (2023.3)\n",
      "Requirement already satisfied: joblib>=1.2.0 in c:\\users\\admin\\anaconda3\\envs\\dataespacial_31111\\lib\\site-packages (from scikit-learn>=1.0->mapclassify) (1.4.2)\n",
      "Requirement already satisfied: threadpoolctl>=3.1.0 in c:\\users\\admin\\anaconda3\\envs\\dataespacial_31111\\lib\\site-packages (from scikit-learn>=1.0->mapclassify) (3.6.0)\n",
      "Requirement already satisfied: six>=1.5 in c:\\users\\admin\\anaconda3\\envs\\dataespacial_31111\\lib\\site-packages (from python-dateutil>=2.8.2->pandas!=1.5.0,>=1.4->mapclassify) (1.16.0)\n"
     ]
    }
   ],
   "source": [
    "# DISCRETIZACION\n",
    "!pip install mapclassify"
   ]
  },
  {
   "cell_type": "code",
   "execution_count": 39,
   "metadata": {
    "id": "66bk3rx-gfMU"
   },
   "outputs": [],
   "source": [
    "import mapclassify\n",
    "import numpy as np\n",
    "np.random.seed(12345)"
   ]
  },
  {
   "cell_type": "code",
   "execution_count": 40,
   "metadata": {
    "id": "Q-HfHLdgebtS"
   },
   "outputs": [
    {
     "name": "stderr",
     "output_type": "stream",
     "text": [
      "C:\\Users\\ADMIN\\anaconda3\\envs\\dataespacial_31111\\Lib\\site-packages\\IPython\\core\\interactiveshell.py:3577: UserWarning: Numba not installed. Using slow pure python version.\n",
      "  exec(code_obj, self.user_global_ns, self.user_ns)\n"
     ]
    }
   ],
   "source": [
    "# Para electricity\n",
    "\n",
    "theVar=final1.Electricity_generated_kW\n",
    "K=5\n",
    "\n",
    "#se prueba con cada tecnica de discretizacion enseñada\n",
    "ei5 = mapclassify.EqualInterval(theVar, k=K)\n",
    "\n",
    "msd = mapclassify.StdMean(theVar)\n",
    "\n",
    "q5=mapclassify.Quantiles(theVar,k=K)\n",
    "\n",
    "mb5 = mapclassify.MaximumBreaks(theVar, k=K)\n",
    "\n",
    "ht = mapclassify.HeadTailBreaks(theVar)\n",
    "\n",
    "fj5 = mapclassify.FisherJenks(theVar, k=K)\n",
    "\n",
    "jc5 = mapclassify.JenksCaspall(theVar, k=K)\n",
    "\n",
    "mp5 = mapclassify.MaxP(theVar, k=K)\n"
   ]
  },
  {
   "cell_type": "code",
   "execution_count": 41,
   "metadata": {
    "colab": {
     "base_uri": "https://localhost:8080/",
     "height": 567
    },
    "id": "6BJyPwuegwcq",
    "outputId": "54173824-69e6-4369-ce8d-ee0c3bb3a4e0"
   },
   "outputs": [],
   "source": [
    "class5 = q5, ei5,msd, ht, mb5, fj5, jc5, mp5\n",
    "fits = np.array([ c.adcm for c in class5])\n",
    "adcms = pd.DataFrame(fits)\n",
    "adcms['classifier'] = [c.name for c in class5]\n",
    "adcms.columns = ['ADCM', 'Classifier']\n",
    "adcms.sort_values(by='ADCM', ascending=False).plot(kind='bar', x='Classifier', y='ADCM', legend=False);"
   ]
  },
  {
   "cell_type": "code",
   "execution_count": 42,
   "metadata": {
    "id": "6stx2MSyhWII"
   },
   "outputs": [
    {
     "name": "stderr",
     "output_type": "stream",
     "text": [
      "C:\\Users\\ADMIN\\anaconda3\\envs\\dataespacial_31111\\Lib\\site-packages\\IPython\\core\\interactiveshell.py:3577: UserWarning: Numba not installed. Using slow pure python version.\n",
      "  exec(code_obj, self.user_global_ns, self.user_ns)\n"
     ]
    }
   ],
   "source": [
    "# se usará Fisherjenks para cada variable porque produce el ADCM menor\n",
    "FJelectricity=mapclassify.FisherJenks(final1.Electricity_generated_kW, k=5)\n",
    "FJeducation=mapclassify.FisherJenks(final1.Education_expenditure_percent_GDP, k=5)\n",
    "FJenergy=mapclassify.FisherJenks(final1.Energy_consumption_per_capita_BtuPerPerson, k=5)\n",
    "FJreserves=mapclassify.FisherJenks(final1.Reserves_of_foreign_exchange_dollars, k=5)"
   ]
  },
  {
   "cell_type": "code",
   "execution_count": 43,
   "metadata": {
    "colab": {
     "base_uri": "https://localhost:8080/"
    },
    "id": "VmDnEWY_iffe",
    "outputId": "967f2a92-e91f-419d-e13b-db2278cede5a"
   },
   "outputs": [
    {
     "data": {
      "text/plain": [
       "FisherJenks\n",
       "\n",
       "           Interval              Count\n",
       "--------------------------------------\n",
       "[     29000.00,   47631000.00] |   149\n",
       "(  47631000.00,  161988000.00] |    20\n",
       "( 161988000.00,  499136000.00] |     5\n",
       "( 499136000.00, 1235000000.00] |     1\n",
       "(1235000000.00, 2949000000.00] |     1"
      ]
     },
     "execution_count": 43,
     "metadata": {},
     "output_type": "execute_result"
    }
   ],
   "source": [
    "FJelectricity     #se obtienen los intervalos para electricity mediante ese método"
   ]
  },
  {
   "cell_type": "code",
   "execution_count": 44,
   "metadata": {
    "colab": {
     "base_uri": "https://localhost:8080/"
    },
    "id": "NjEoljANigyv",
    "outputId": "ee52c762-1731-4a5e-a73a-2be0b77d7793"
   },
   "outputs": [
    {
     "data": {
      "text/plain": [
       "FisherJenks\n",
       "\n",
       "   Interval      Count\n",
       "----------------------\n",
       "[ 0.30,  2.70] |    26\n",
       "( 2.70,  4.10] |    52\n",
       "( 4.10,  5.60] |    55\n",
       "( 5.60,  7.80] |    36\n",
       "( 7.80, 12.80] |     7"
      ]
     },
     "execution_count": 44,
     "metadata": {},
     "output_type": "execute_result"
    }
   ],
   "source": [
    "FJeducation       #se obtienen los intervalos para education mediante ese método"
   ]
  },
  {
   "cell_type": "code",
   "execution_count": 45,
   "metadata": {
    "colab": {
     "base_uri": "https://localhost:8080/"
    },
    "id": "uzwE3JlJiiE_",
    "outputId": "7fef1129-7276-496d-ec23-fb26db80a2ca"
   },
   "outputs": [
    {
     "data": {
      "text/plain": [
       "FisherJenks\n",
       "\n",
       "          Interval             Count\n",
       "------------------------------------\n",
       "[   649000.00,  50886000.00] |    95\n",
       "( 50886000.00, 143149000.00] |    58\n",
       "(143149000.00, 278474000.00] |    14\n",
       "(278474000.00, 450432000.00] |     6\n",
       "(450432000.00, 814308000.00] |     3"
      ]
     },
     "execution_count": 45,
     "metadata": {},
     "output_type": "execute_result"
    }
   ],
   "source": [
    "FJenergy          #se obtienen los intervalos para energy mediante ese método"
   ]
  },
  {
   "cell_type": "code",
   "execution_count": 46,
   "metadata": {
    "colab": {
     "base_uri": "https://localhost:8080/"
    },
    "id": "1iRxhGqzijen",
    "outputId": "96d6e8e3-0a4a-47d1-f905-6b8c30cd0ec4"
   },
   "outputs": [
    {
     "data": {
      "text/plain": [
       "FisherJenks\n",
       "\n",
       "              Interval                 Count\n",
       "--------------------------------------------\n",
       "[     30450000.00,   68448000000.00] |   143\n",
       "(  68448000000.00,  231690000000.00] |    23\n",
       "( 231690000000.00,  597217000000.00] |     7\n",
       "( 597217000000.00, 1160000000000.00] |     2\n",
       "(1160000000000.00, 3265000000000.00] |     1"
      ]
     },
     "execution_count": 46,
     "metadata": {},
     "output_type": "execute_result"
    }
   ],
   "source": [
    "FJreserves              #se obtienen los intervalos para reserves mediante ese método"
   ]
  },
  {
   "cell_type": "code",
   "execution_count": 48,
   "metadata": {
    "id": "xdKiBz9TLJig"
   },
   "outputs": [],
   "source": [
    "#se procede a guardar el dataframe con las 4 variables:\n",
    "final1.to_csv(\"final1_4variables.csv\",index=False)\n",
    "final1_copy.to_csv(\"final1_copy_8variables.csv\",index=False)"
   ]
  }
 ],
 "metadata": {
  "colab": {
   "provenance": [],
   "toc_visible": true
  },
  "kernelspec": {
   "display_name": "Python 3 (ipykernel)",
   "language": "python",
   "name": "python3"
  },
  "language_info": {
   "codemirror_mode": {
    "name": "ipython",
    "version": 3
   },
   "file_extension": ".py",
   "mimetype": "text/x-python",
   "name": "python",
   "nbconvert_exporter": "python",
   "pygments_lexer": "ipython3",
   "version": "3.11.11"
  }
 },
 "nbformat": 4,
 "nbformat_minor": 4
}
